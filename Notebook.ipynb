{
 "cells": [
  {
   "cell_type": "markdown",
   "id": "2e9c8e69",
   "metadata": {},
   "source": [
    "# Produtos Digitais"
   ]
  },
  {
   "cell_type": "markdown",
   "id": "e346fcd8",
   "metadata": {},
   "source": [
    "Este notebook apresenta o ciclo de vida de coleta e uso dos dados de aplicativos e portais. Os dados são gerados durante o uso (navegação) dos produtos e capturados na forma de eventos, via `Google Analytics` e/ou `Google Firebase`\n",
    "<br><br>\n",
    "Vamos falar:\n",
    "\n",
    "- Motivação\n",
    "- Captura de dados\n",
    "- Acesso e formato dos dados\n",
    "- Como os dados podem ser usados\n",
    "- Primeiros passos técnicos desse trabalho"
   ]
  },
  {
   "cell_type": "markdown",
   "id": "b9a9faf0",
   "metadata": {},
   "source": [
    "### Motivação"
   ]
  },
  {
   "cell_type": "markdown",
   "id": "b65d5326",
   "metadata": {},
   "source": [
    "- Muitos parceiros (clientes) estão usando dados para potencializar seus produtos digitais\n",
    "- Expandir a visão de todos sobre o que é possível fazer com os dados desses produtos\n",
    "- Provocar discussões e fortalecer os grupos de debate sobre Growth"
   ]
  },
  {
   "cell_type": "markdown",
   "id": "ee9819ae",
   "metadata": {},
   "source": [
    "### Captura dos dados"
   ]
  },
  {
   "cell_type": "markdown",
   "id": "e78e6670",
   "metadata": {},
   "source": [
    "Esse trabalho começa com a definição do Tag Book (<i>mapa de jornadas dos produto e suas respectivas tags</i>) e evolui para a implementação das regras de coleta no Google Tag Manager (GTM). O Analista de Dados faz esse trabalho em conjunto com o time de desenvolvimento e o time de negócio, pois muitas vezes é necessário planejar tarefas e encaixá-las no backlog do time de desenvolvimento."
   ]
  },
  {
   "cell_type": "markdown",
   "id": "f42ab68b",
   "metadata": {},
   "source": [
    "<img src=\"images/google-analytics-raw-data.jpg\" />"
   ]
  },
  {
   "cell_type": "markdown",
   "id": "5557cd83",
   "metadata": {},
   "source": [
    "### Acesso e formato dos dados"
   ]
  },
  {
   "cell_type": "code",
   "execution_count": 1,
   "id": "ccdd589e",
   "metadata": {},
   "outputs": [],
   "source": [
    "from pyspark.sql import types as T\n",
    "from pyspark.sql import SparkSession\n",
    "from pyspark.sql import functions as F\n",
    "from pyspark.sql.window import Window"
   ]
  },
  {
   "cell_type": "markdown",
   "id": "611c8c00",
   "metadata": {},
   "source": [
    "Neste exemplo vamos utilizar um dataset fictício para simular os eventos coletados de um aplicativo ou portal."
   ]
  },
  {
   "cell_type": "code",
   "execution_count": 9,
   "id": "d86a9d13",
   "metadata": {},
   "outputs": [
    {
     "name": "stdout",
     "output_type": "stream",
     "text": [
      "+-------------------+-------+-----------------+-------------------------------------------------------------------+\n",
      "|timestamp          |user_id|event_name       |event_params                                                       |\n",
      "+-------------------+-------+-----------------+-------------------------------------------------------------------+\n",
      "|2021-08-01 11:00:00|1      |login            |null                                                               |\n",
      "|2021-08-01 11:00:10|1      |home_screenview  |null                                                               |\n",
      "|2021-08-01 11:01:00|1      |restaurant_choose|{'id':10,'brand':'Pizza Hut'}                                      |\n",
      "|2021-08-01 11:02:00|1      |view_item        |{'item_id':22,'price':10.0,'category':'Pizza','promotion':'No'}    |\n",
      "|2021-08-01 11:04:00|1      |add_to_cart      |{'item_id':22,'qnt':1}                                             |\n",
      "|2021-08-01 11:05:00|1      |purchase         |{'order':100,'value':10.0,'delivery_value':2.0}                    |\n",
      "|2021-08-01 11:00:00|2      |login            |null                                                               |\n",
      "|2021-08-01 11:00:10|2      |home_screenview  |null                                                               |\n",
      "|2021-08-01 11:01:00|2      |restaurant_choose|{'id':10,'brand':'Pizza Hut'}                                      |\n",
      "|2021-08-01 11:00:00|3      |login            |null                                                               |\n",
      "|2021-08-01 11:00:10|3      |home_screenview  |null                                                               |\n",
      "|2021-08-01 11:01:00|3      |restaurant_choose|{'id':30,'brand':'Esquina dos Lanches'}                            |\n",
      "|2021-08-01 11:02:00|3      |view_item        |{'item_id':56,'price':20.0,'category':'Sandwich','promotion':'No'} |\n",
      "|2021-08-01 11:04:00|3      |add_to_cart      |{'item_id':56,'qnt':1}                                             |\n",
      "|2021-08-01 11:10:00|1      |login            |null                                                               |\n",
      "|2021-08-01 11:10:10|1      |home_screenview  |null                                                               |\n",
      "|2021-08-01 11:01:00|3      |restaurant_choose|{'id':30,'brand':'Esquina dos Lanches'}                            |\n",
      "|2021-08-01 11:02:00|3      |view_item        |{'item_id':56,'price':20.0,'category':'Sandwich','promotion':'No'} |\n",
      "|2021-08-01 11:12:00|1      |view_item        |{'item_id':27,'price':17.5,'category':'Sandwich','promotion':'Yes'}|\n",
      "|2021-08-01 11:14:00|1      |add_to_cart      |{'item_id':27,'qnt':1}                                             |\n",
      "|2021-08-01 11:15:00|1      |purchase         |{'order':101,'value':17.5,'delivery_value':3.0}                    |\n",
      "|2021-08-01 11:40:00|1      |login            |null                                                               |\n",
      "|2021-08-01 11:40:10|1      |home_screenview  |null                                                               |\n",
      "|2021-08-01 11:40:50|1      |order_status     |{'order':100,'brand':'On delivery'}                                |\n",
      "+-------------------+-------+-----------------+-------------------------------------------------------------------+\n",
      "\n"
     ]
    }
   ],
   "source": [
    "spark = SparkSession.builder.getOrCreate()\n",
    "\n",
    "df = spark.read.option('header', True).csv('data.csv')\n",
    "\n",
    "df = df.select([\n",
    "    F.col('timestamp').cast(T.TimestampType()),\n",
    "    F.col('user_id').cast(T.IntegerType()),\n",
    "    F.col('event_name'),\n",
    "    F.col('event_params')\n",
    "])\n",
    "\n",
    "df.show(30, truncate=False)"
   ]
  },
  {
   "cell_type": "markdown",
   "id": "c945224a",
   "metadata": {},
   "source": [
    "## Como os dados podem ser usados"
   ]
  },
  {
   "cell_type": "markdown",
   "id": "b6a8bb1d",
   "metadata": {},
   "source": [
    "A seguir, algumas das ações que podem ser feitas com "
   ]
  },
  {
   "cell_type": "markdown",
   "id": "44269452",
   "metadata": {},
   "source": [
    "- Aprender sobre o negócio e sobre os consumidores\n",
    "  - Taxa de conversão\n",
    "  - Percentual de abandono de carrinho\n",
    "  - Predominância por tipo de pedido ou prato?\n",
    "  - Quem pede no almoço também pede no jantar?\n",
    "  - O valor médio dos pedidos é o mesmo para almoço e jantar?\n",
    "  - Existe diferença no fim de semana?\n",
    "  - O que é uma boa experiência? Promoção? Receber o produto no prazo esperado? Pagar com meio de pagamento desejado?\n",
    "  - Os clientes que tem uma boa experiência voltam?\n",
    "  - ...\n",
    "- Identificar oportunidades para potencializar os resultados\n",
    "  - Ranking de restaurantes evita que os consumidores peçam em estabelecimentos com baixa qualidade de serviço?\n",
    "  - Recomendar restaurantes, pratos e promoções ajuda a fidelizar o consumidor e impulsionar vendas?\n",
    "  - Predizer fraudes / consumidores mal intencionados fideliza o estabelecimento? Transmite segurança?\n",
    "  - Prever atrasos na entrega ajudam com o alinhamento de expectativa do cliente?\n",
    "  - É possível prever picos dos restaurantes e evitar os cancelamentos?\n",
    "  - ..."
   ]
  },
  {
   "cell_type": "markdown",
   "id": "f6fbab72",
   "metadata": {},
   "source": [
    "## Primeiros passos técnicos desse trabalho"
   ]
  },
  {
   "cell_type": "markdown",
   "id": "34a20e07",
   "metadata": {},
   "source": [
    "A primeira coisa a se fazer é criar o conceito de `sessão de uso`."
   ]
  },
  {
   "cell_type": "code",
   "execution_count": 10,
   "id": "3feca1db",
   "metadata": {},
   "outputs": [
    {
     "name": "stderr",
     "output_type": "stream",
     "text": [
      "[Stage 12:===============================================>      (175 + 9) / 200]\r"
     ]
    },
    {
     "name": "stdout",
     "output_type": "stream",
     "text": [
      "+-------------------+-------------------+-------+-----------------+--------------------+----+-------+----------+\n",
      "|          timestamp|                lag|user_id|       event_name|        event_params|diff|session|session_id|\n",
      "+-------------------+-------------------+-------+-----------------+--------------------+----+-------+----------+\n",
      "|2021-08-01 11:00:00|               null|      1|            login|                null|null|      1|         1|\n",
      "|2021-08-01 11:00:10|2021-08-01 11:00:00|      1|  home_screenview|                null|  10|      0|         1|\n",
      "|2021-08-01 11:01:00|2021-08-01 11:00:10|      1|restaurant_choose|{'id':10,'brand':...|  50|      0|         1|\n",
      "|2021-08-01 11:02:00|2021-08-01 11:01:00|      1|        view_item|{'item_id':22,'pr...|  60|      0|         1|\n",
      "|2021-08-01 11:04:00|2021-08-01 11:02:00|      1|      add_to_cart|{'item_id':22,'qn...| 120|      0|         1|\n",
      "|2021-08-01 11:05:00|2021-08-01 11:04:00|      1|         purchase|{'order':100,'val...|  60|      0|         1|\n",
      "|2021-08-01 11:10:00|2021-08-01 11:05:00|      1|            login|                null| 300|      1|         2|\n",
      "|2021-08-01 11:10:10|2021-08-01 11:10:00|      1|  home_screenview|                null|  10|      0|         2|\n",
      "|2021-08-01 11:12:00|2021-08-01 11:10:10|      1|        view_item|{'item_id':27,'pr...| 110|      0|         2|\n",
      "|2021-08-01 11:14:00|2021-08-01 11:12:00|      1|      add_to_cart|{'item_id':27,'qn...| 120|      0|         2|\n",
      "|2021-08-01 11:15:00|2021-08-01 11:14:00|      1|         purchase|{'order':101,'val...|  60|      0|         2|\n",
      "|2021-08-01 11:40:00|2021-08-01 11:15:00|      1|            login|                null|1500|      1|         3|\n",
      "|2021-08-01 11:40:10|2021-08-01 11:40:00|      1|  home_screenview|                null|  10|      0|         3|\n",
      "|2021-08-01 11:40:50|2021-08-01 11:40:10|      1|     order_status|{'order':100,'bra...|  40|      0|         3|\n",
      "|2021-08-01 11:00:00|               null|      2|            login|                null|null|      1|         1|\n",
      "|2021-08-01 11:00:10|2021-08-01 11:00:00|      2|  home_screenview|                null|  10|      0|         1|\n",
      "|2021-08-01 11:01:00|2021-08-01 11:00:10|      2|restaurant_choose|{'id':10,'brand':...|  50|      0|         1|\n",
      "|2021-08-01 11:00:00|               null|      3|            login|                null|null|      1|         1|\n",
      "|2021-08-01 11:00:10|2021-08-01 11:00:00|      3|  home_screenview|                null|  10|      0|         1|\n",
      "|2021-08-01 11:01:00|2021-08-01 11:00:10|      3|restaurant_choose|{'id':30,'brand':...|  50|      0|         1|\n",
      "|2021-08-01 11:01:00|2021-08-01 11:01:00|      3|restaurant_choose|{'id':30,'brand':...|   0|      0|         1|\n",
      "|2021-08-01 11:02:00|2021-08-01 11:01:00|      3|        view_item|{'item_id':56,'pr...|  60|      0|         1|\n",
      "|2021-08-01 11:02:00|2021-08-01 11:02:00|      3|        view_item|{'item_id':56,'pr...|   0|      0|         1|\n",
      "|2021-08-01 11:04:00|2021-08-01 11:02:00|      3|      add_to_cart|{'item_id':56,'qn...| 120|      0|         1|\n",
      "+-------------------+-------------------+-------+-----------------+--------------------+----+-------+----------+\n",
      "\n"
     ]
    },
    {
     "name": "stderr",
     "output_type": "stream",
     "text": [
      "\r",
      "[Stage 12:===================================================>  (192 + 8) / 200]\r",
      "\r",
      "                                                                                \r"
     ]
    }
   ],
   "source": [
    "max_session_duration = 60 * 5\n",
    "\n",
    "df_session = df.select([\n",
    "    F.col('timestamp'),\n",
    "    F.lag('timestamp', 1).over(Window.partitionBy('user_id').orderBy('timestamp')).alias('lag'),\n",
    "    F.col('user_id'),\n",
    "    F.col('event_name'),\n",
    "    F.col('event_params')\n",
    "])\n",
    "\n",
    "df_session = df_session.withColumn('diff',\n",
    "    df_session.timestamp.cast(T.LongType()) - df_session.lag.cast(T.LongType())\n",
    ")\n",
    "\n",
    "df_session = df_session.select([\n",
    "    'timestamp',\n",
    "    'lag',\n",
    "    'user_id',\n",
    "    'event_name',\n",
    "    'event_params',\n",
    "    'diff',\n",
    "    F.when(df_session.diff < max_session_duration, F.lit(0)).otherwise(F.lit(1)).alias('session')\n",
    "])\n",
    "\n",
    "df_session = df_session.select([\n",
    "    'timestamp',\n",
    "    'lag',\n",
    "    'user_id',\n",
    "    'event_name',\n",
    "    'event_params',\n",
    "    'diff',\n",
    "    'session',\n",
    "    F.sum('session').over(Window.partitionBy(['user_id']).orderBy('timestamp')).alias('session_id')\n",
    "]).orderBy(['user_id','session_id','timestamp'])\n",
    "\n",
    "df_session.show(30, truncate=20)"
   ]
  },
  {
   "cell_type": "code",
   "execution_count": 6,
   "id": "7f7e40e8",
   "metadata": {},
   "outputs": [
    {
     "name": "stderr",
     "output_type": "stream",
     "text": [
      "\r",
      "[Stage 5:=================================>                     (120 + 8) / 200]\r",
      "\r",
      "[Stage 5:===============================================>       (172 + 8) / 200]\r"
     ]
    },
    {
     "name": "stdout",
     "output_type": "stream",
     "text": [
      "+-------------------+-------+----------+-----------------+--------------------------------------------------+\n",
      "|          timestamp|user_id|session_id|       event_name|                                      event_params|\n",
      "+-------------------+-------+----------+-----------------+--------------------------------------------------+\n",
      "|2021-08-01 11:00:00|      1|         1|            login|                                              null|\n",
      "|2021-08-01 11:00:10|      1|         1|  home_screenview|                                              null|\n",
      "|2021-08-01 11:01:00|      1|         1|restaurant_choose|                     {'id':10,'brand':'Pizza Hut'}|\n",
      "|2021-08-01 11:02:00|      1|         1|        view_item|{'item_id':22,'price':10.0,'category':'Pizza','...|\n",
      "|2021-08-01 11:04:00|      1|         1|      add_to_cart|                            {'item_id':22,'qnt':1}|\n",
      "|2021-08-01 11:05:00|      1|         1|         purchase|   {'order':100,'value':10.0,'delivery_value':2.0}|\n",
      "|2021-08-01 11:10:00|      1|         2|            login|                                              null|\n",
      "|2021-08-01 11:10:10|      1|         2|  home_screenview|                                              null|\n",
      "|2021-08-01 11:12:00|      1|         2|        view_item|{'item_id':27,'price':17.5,'category':'Sandwich...|\n",
      "|2021-08-01 11:14:00|      1|         2|      add_to_cart|                            {'item_id':27,'qnt':1}|\n",
      "|2021-08-01 11:15:00|      1|         2|         purchase|   {'order':101,'value':17.5,'delivery_value':3.0}|\n",
      "|2021-08-01 11:40:00|      1|         3|            login|                                              null|\n",
      "|2021-08-01 11:40:10|      1|         3|  home_screenview|                                              null|\n",
      "|2021-08-01 11:40:50|      1|         3|     order_status|               {'order':100,'brand':'On delivery'}|\n",
      "|2021-08-01 11:00:00|      2|         1|            login|                                              null|\n",
      "|2021-08-01 11:00:10|      2|         1|  home_screenview|                                              null|\n",
      "|2021-08-01 11:01:00|      2|         1|restaurant_choose|                     {'id':10,'brand':'Pizza Hut'}|\n",
      "|2021-08-01 11:00:00|      3|         1|            login|                                              null|\n",
      "|2021-08-01 11:00:10|      3|         1|  home_screenview|                                              null|\n",
      "|2021-08-01 11:01:00|      3|         1|restaurant_choose|           {'id':30,'brand':'Esquina dos Lanches'}|\n",
      "|2021-08-01 11:01:00|      3|         1|restaurant_choose|           {'id':30,'brand':'Esquina dos Lanches'}|\n",
      "|2021-08-01 11:02:00|      3|         1|        view_item|{'item_id':56,'price':20.0,'category':'Sandwich...|\n",
      "|2021-08-01 11:02:00|      3|         1|        view_item|{'item_id':56,'price':20.0,'category':'Sandwich...|\n",
      "|2021-08-01 11:04:00|      3|         1|      add_to_cart|                            {'item_id':56,'qnt':1}|\n",
      "+-------------------+-------+----------+-----------------+--------------------------------------------------+\n",
      "\n"
     ]
    },
    {
     "name": "stderr",
     "output_type": "stream",
     "text": [
      "\r",
      "                                                                                \r"
     ]
    }
   ],
   "source": [
    "df_session.select([\n",
    "    'timestamp',\n",
    "    'user_id',\n",
    "    'session_id',\n",
    "    'event_name',\n",
    "    'event_params'\n",
    "]).orderBy(['user_id','session_id','timestamp']).show(50, truncate=50)"
   ]
  },
  {
   "cell_type": "code",
   "execution_count": 7,
   "id": "1314a7d6",
   "metadata": {},
   "outputs": [
    {
     "name": "stderr",
     "output_type": "stream",
     "text": [
      "                                                                                \r"
     ]
    },
    {
     "data": {
      "text/plain": [
       "5"
      ]
     },
     "execution_count": 7,
     "metadata": {},
     "output_type": "execute_result"
    }
   ],
   "source": [
    "total_sessions = df_session.select(['user_id','session_id']).distinct().count()\n",
    "total_sessions"
   ]
  },
  {
   "cell_type": "code",
   "execution_count": 8,
   "id": "00846cb6",
   "metadata": {},
   "outputs": [
    {
     "name": "stderr",
     "output_type": "stream",
     "text": [
      "                                                                                \r"
     ]
    },
    {
     "data": {
      "text/plain": [
       "2"
      ]
     },
     "execution_count": 8,
     "metadata": {},
     "output_type": "execute_result"
    }
   ],
   "source": [
    "total_sessions_with_purchase = df_session \\\n",
    "    .select(['user_id','session_id']) \\\n",
    "    .filter(df_session.event_name == 'purchase') \\\n",
    "    .distinct() \\\n",
    "    .count()\n",
    "total_sessions_with_purchase"
   ]
  },
  {
   "cell_type": "code",
   "execution_count": 9,
   "id": "5b262979",
   "metadata": {},
   "outputs": [
    {
     "data": {
      "text/plain": [
       "0.4"
      ]
     },
     "execution_count": 9,
     "metadata": {},
     "output_type": "execute_result"
    }
   ],
   "source": [
    "# convertion rate\n",
    "total_sessions_with_purchase / total_sessions"
   ]
  }
 ],
 "metadata": {
  "kernelspec": {
   "display_name": "Python 3 (ipykernel)",
   "language": "python",
   "name": "python3"
  },
  "language_info": {
   "codemirror_mode": {
    "name": "ipython",
    "version": 3
   },
   "file_extension": ".py",
   "mimetype": "text/x-python",
   "name": "python",
   "nbconvert_exporter": "python",
   "pygments_lexer": "ipython3",
   "version": "3.8.11"
  }
 },
 "nbformat": 4,
 "nbformat_minor": 5
}
