{
 "cells": [
  {
   "cell_type": "code",
   "execution_count": 1,
   "id": "ccdd589e",
   "metadata": {},
   "outputs": [],
   "source": [
    "from pyspark.sql import types as T\n",
    "from pyspark.sql import SparkSession\n",
    "from pyspark.sql import functions as F\n",
    "from pyspark.sql.window import Window"
   ]
  },
  {
   "cell_type": "code",
   "execution_count": 2,
   "id": "4d615a5c",
   "metadata": {},
   "outputs": [
    {
     "name": "stdout",
     "output_type": "stream",
     "text": [
      ":: loading settings :: url = jar:file:/usr/local/lib/python3.8/site-packages/pyspark/jars/ivy-2.4.0.jar!/org/apache/ivy/core/settings/ivysettings.xml\n"
     ]
    },
    {
     "name": "stderr",
     "output_type": "stream",
     "text": [
      "Ivy Default Cache set to: /root/.ivy2/cache\n",
      "The jars for the packages stored in: /root/.ivy2/jars\n",
      "io.delta#delta-core_2.12 added as a dependency\n",
      ":: resolving dependencies :: org.apache.spark#spark-submit-parent-05b2e292-fb8c-411f-9272-d2cd105223c7;1.0\n",
      "\tconfs: [default]\n",
      "\tfound io.delta#delta-core_2.12;0.8.0 in central\n",
      "\tfound org.antlr#antlr4;4.7 in central\n",
      "\tfound org.antlr#antlr4-runtime;4.7 in central\n",
      "\tfound org.antlr#antlr-runtime;3.5.2 in central\n",
      "\tfound org.antlr#ST4;4.0.8 in central\n",
      "\tfound org.abego.treelayout#org.abego.treelayout.core;1.0.3 in central\n",
      "\tfound org.glassfish#javax.json;1.0.4 in central\n",
      "\tfound com.ibm.icu#icu4j;58.2 in central\n",
      ":: resolution report :: resolve 918ms :: artifacts dl 40ms\n",
      "\t:: modules in use:\n",
      "\tcom.ibm.icu#icu4j;58.2 from central in [default]\n",
      "\tio.delta#delta-core_2.12;0.8.0 from central in [default]\n",
      "\torg.abego.treelayout#org.abego.treelayout.core;1.0.3 from central in [default]\n",
      "\torg.antlr#ST4;4.0.8 from central in [default]\n",
      "\torg.antlr#antlr-runtime;3.5.2 from central in [default]\n",
      "\torg.antlr#antlr4;4.7 from central in [default]\n",
      "\torg.antlr#antlr4-runtime;4.7 from central in [default]\n",
      "\torg.glassfish#javax.json;1.0.4 from central in [default]\n",
      "\t---------------------------------------------------------------------\n",
      "\t|                  |            modules            ||   artifacts   |\n",
      "\t|       conf       | number| search|dwnlded|evicted|| number|dwnlded|\n",
      "\t---------------------------------------------------------------------\n",
      "\t|      default     |   8   |   0   |   0   |   0   ||   8   |   0   |\n",
      "\t---------------------------------------------------------------------\n",
      ":: retrieving :: org.apache.spark#spark-submit-parent-05b2e292-fb8c-411f-9272-d2cd105223c7\n",
      "\tconfs: [default]\n",
      "\t0 artifacts copied, 8 already retrieved (0kB/26ms)\n",
      "21/08/02 19:06:00 WARN NativeCodeLoader: Unable to load native-hadoop library for your platform... using builtin-java classes where applicable\n",
      "Using Spark's default log4j profile: org/apache/spark/log4j-defaults.properties\n",
      "Setting default log level to \"WARN\".\n",
      "To adjust logging level use sc.setLogLevel(newLevel). For SparkR, use setLogLevel(newLevel).\n"
     ]
    },
    {
     "data": {
      "text/html": [
       "\n",
       "            <div>\n",
       "                <p><b>SparkSession - in-memory</b></p>\n",
       "                \n",
       "        <div>\n",
       "            <p><b>SparkContext</b></p>\n",
       "\n",
       "            <p><a href=\"http://888c1f693446:4040\">Spark UI</a></p>\n",
       "\n",
       "            <dl>\n",
       "              <dt>Version</dt>\n",
       "                <dd><code>v3.1.2</code></dd>\n",
       "              <dt>Master</dt>\n",
       "                <dd><code>local[*]</code></dd>\n",
       "              <dt>AppName</dt>\n",
       "                <dd><code>pyspark-shell</code></dd>\n",
       "            </dl>\n",
       "        </div>\n",
       "        \n",
       "            </div>\n",
       "        "
      ],
      "text/plain": [
       "<pyspark.sql.session.SparkSession at 0x7f2a70a1a490>"
      ]
     },
     "execution_count": 2,
     "metadata": {},
     "output_type": "execute_result"
    }
   ],
   "source": [
    "spark = SparkSession.builder.getOrCreate()\n",
    "spark"
   ]
  },
  {
   "cell_type": "code",
   "execution_count": 3,
   "id": "d86a9d13",
   "metadata": {},
   "outputs": [
    {
     "name": "stderr",
     "output_type": "stream",
     "text": [
      "                                                                                \r"
     ]
    },
    {
     "name": "stdout",
     "output_type": "stream",
     "text": [
      "+-------------------+-------+-----------------+---------------------------------------------------------------+\n",
      "|timestamp          |user_id|event_name       |event_params                                                   |\n",
      "+-------------------+-------+-----------------+---------------------------------------------------------------+\n",
      "|2021-08-01 11:00:00|1      |login            |null                                                           |\n",
      "|2021-08-01 11:00:10|1      |home_screenview  |null                                                           |\n",
      "|2021-08-01 11:01:00|1      |restaurant_choose|{'id':10,'brand':'Pizza Hut'}                                  |\n",
      "|2021-08-01 11:02:00|1      |view_item        |{'item_id':22,'price':10.0,'category':'Pizza','promotion':'No'}|\n",
      "|2021-08-01 11:04:00|1      |add_to_cart      |{'item_id':22,'qnt':1}                                         |\n",
      "+-------------------+-------+-----------------+---------------------------------------------------------------+\n",
      "only showing top 5 rows\n",
      "\n"
     ]
    }
   ],
   "source": [
    "df = spark.read.option('header', True).csv('data.csv')\n",
    "\n",
    "df = df.select([\n",
    "    F.col('timestamp').cast(T.TimestampType()),\n",
    "    F.col('user_id').cast(T.IntegerType()),\n",
    "    F.col('event_name'),\n",
    "    F.col('event_params')\n",
    "])\n",
    "\n",
    "df.show(5, truncate=False)"
   ]
  },
  {
   "cell_type": "code",
   "execution_count": 4,
   "id": "bedd2457",
   "metadata": {},
   "outputs": [
    {
     "name": "stdout",
     "output_type": "stream",
     "text": [
      "root\n",
      " |-- timestamp: timestamp (nullable = true)\n",
      " |-- user_id: integer (nullable = true)\n",
      " |-- event_name: string (nullable = true)\n",
      " |-- event_params: string (nullable = true)\n",
      "\n"
     ]
    }
   ],
   "source": [
    "df.printSchema()"
   ]
  },
  {
   "cell_type": "markdown",
   "id": "f6fbab72",
   "metadata": {},
   "source": [
    "## Sessionization"
   ]
  },
  {
   "cell_type": "code",
   "execution_count": 8,
   "id": "3feca1db",
   "metadata": {},
   "outputs": [
    {
     "name": "stderr",
     "output_type": "stream",
     "text": [
      "[Stage 7:=================================================>     (179 + 8) / 200]\r"
     ]
    },
    {
     "name": "stdout",
     "output_type": "stream",
     "text": [
      "+-------------------+-------------------+-------+-----------------+------------------------------+----+-------+----------+\n",
      "|          timestamp|                lag|user_id|       event_name|                  event_params|diff|session|session_id|\n",
      "+-------------------+-------------------+-------+-----------------+------------------------------+----+-------+----------+\n",
      "|2021-08-01 11:00:00|               null|      1|            login|                          null|null|      1|         1|\n",
      "|2021-08-01 11:00:10|2021-08-01 11:00:00|      1|  home_screenview|                          null|  10|      0|         1|\n",
      "|2021-08-01 11:01:00|2021-08-01 11:00:10|      1|restaurant_choose| {'id':10,'brand':'Pizza Hut'}|  50|      0|         1|\n",
      "|2021-08-01 11:02:00|2021-08-01 11:01:00|      1|        view_item|{'item_id':22,'price':10.0,...|  60|      0|         1|\n",
      "|2021-08-01 11:04:00|2021-08-01 11:02:00|      1|      add_to_cart|        {'item_id':22,'qnt':1}| 120|      0|         1|\n",
      "|2021-08-01 11:05:00|2021-08-01 11:04:00|      1|         purchase|{'order':100,'value':10.0,'...|  60|      0|         1|\n",
      "|2021-08-01 11:10:00|2021-08-01 11:05:00|      1|            login|                          null| 300|      1|         2|\n",
      "|2021-08-01 11:10:10|2021-08-01 11:10:00|      1|  home_screenview|                          null|  10|      0|         2|\n",
      "|2021-08-01 11:12:00|2021-08-01 11:10:10|      1|        view_item|{'item_id':27,'price':17.5,...| 110|      0|         2|\n",
      "|2021-08-01 11:14:00|2021-08-01 11:12:00|      1|      add_to_cart|        {'item_id':27,'qnt':1}| 120|      0|         2|\n",
      "+-------------------+-------------------+-------+-----------------+------------------------------+----+-------+----------+\n",
      "only showing top 10 rows\n",
      "\n"
     ]
    },
    {
     "name": "stderr",
     "output_type": "stream",
     "text": [
      "\r",
      "                                                                                \r"
     ]
    }
   ],
   "source": [
    "max_session_duration = 60 * 5\n",
    "\n",
    "df_session = df.select([\n",
    "    F.col('timestamp'),\n",
    "    F.lag('timestamp', 1).over(Window.partitionBy('user_id').orderBy('timestamp')).alias('lag'),\n",
    "    F.col('user_id'),\n",
    "    F.col('event_name'),\n",
    "    F.col('event_params')\n",
    "])\n",
    "\n",
    "df_session = df_session.withColumn('diff',\n",
    "    df_session.timestamp.cast(T.LongType()) - df_session.lag.cast(T.LongType())\n",
    ")\n",
    "\n",
    "df_session = df_session.select([\n",
    "    'timestamp',\n",
    "    'lag',\n",
    "    'user_id',\n",
    "    'event_name',\n",
    "    'event_params',\n",
    "    'diff',\n",
    "    F.when(df_session.diff < max_session_duration, F.lit(0)).otherwise(F.lit(1)).alias('session')\n",
    "])\n",
    "\n",
    "df_session = df_session.select([\n",
    "    'timestamp',\n",
    "    'lag',\n",
    "    'user_id',\n",
    "    'event_name',\n",
    "    'event_params',\n",
    "    'diff',\n",
    "    'session',\n",
    "    F.sum('session').over(Window.partitionBy(['user_id']).orderBy('timestamp')).alias('session_id')\n",
    "]).orderBy(['user_id','session_id','timestamp'])\n",
    "\n",
    "df_session.show(10, truncate=30)"
   ]
  },
  {
   "cell_type": "code",
   "execution_count": 9,
   "id": "7f7e40e8",
   "metadata": {},
   "outputs": [
    {
     "name": "stderr",
     "output_type": "stream",
     "text": [
      "                                                                                \r"
     ]
    },
    {
     "name": "stdout",
     "output_type": "stream",
     "text": [
      "+-------------------+-------+----------+-----------------+--------------------------------------------------+\n",
      "|          timestamp|user_id|session_id|       event_name|                                      event_params|\n",
      "+-------------------+-------+----------+-----------------+--------------------------------------------------+\n",
      "|2021-08-01 11:00:00|      1|         1|            login|                                              null|\n",
      "|2021-08-01 11:00:10|      1|         1|  home_screenview|                                              null|\n",
      "|2021-08-01 11:01:00|      1|         1|restaurant_choose|                     {'id':10,'brand':'Pizza Hut'}|\n",
      "|2021-08-01 11:02:00|      1|         1|        view_item|{'item_id':22,'price':10.0,'category':'Pizza','...|\n",
      "|2021-08-01 11:04:00|      1|         1|      add_to_cart|                            {'item_id':22,'qnt':1}|\n",
      "|2021-08-01 11:05:00|      1|         1|         purchase|   {'order':100,'value':10.0,'delivery_value':2.0}|\n",
      "|2021-08-01 11:10:00|      1|         2|            login|                                              null|\n",
      "|2021-08-01 11:10:10|      1|         2|  home_screenview|                                              null|\n",
      "|2021-08-01 11:12:00|      1|         2|        view_item|{'item_id':27,'price':17.5,'category':'Sandwich...|\n",
      "|2021-08-01 11:14:00|      1|         2|      add_to_cart|                            {'item_id':27,'qnt':1}|\n",
      "|2021-08-01 11:15:00|      1|         2|         purchase|   {'order':101,'value':17.5,'delivery_value':3.0}|\n",
      "|2021-08-01 11:40:00|      1|         3|            login|                                              null|\n",
      "|2021-08-01 11:40:10|      1|         3|  home_screenview|                                              null|\n",
      "|2021-08-01 11:40:50|      1|         3|     order_status|               {'order':100,'brand':'On delivery'}|\n",
      "|2021-08-01 11:00:00|      2|         1|            login|                                              null|\n",
      "|2021-08-01 11:00:10|      2|         1|  home_screenview|                                              null|\n",
      "|2021-08-01 11:01:00|      2|         1|restaurant_choose|                     {'id':10,'brand':'Pizza Hut'}|\n",
      "|2021-08-01 11:00:00|      3|         1|            login|                                              null|\n",
      "|2021-08-01 11:00:10|      3|         1|  home_screenview|                                              null|\n",
      "|2021-08-01 11:01:00|      3|         1|restaurant_choose|           {'id':30,'brand':'Esquina dos Lanches'}|\n",
      "|2021-08-01 11:01:00|      3|         1|restaurant_choose|           {'id':30,'brand':'Esquina dos Lanches'}|\n",
      "|2021-08-01 11:02:00|      3|         1|        view_item|{'item_id':56,'price':20.0,'category':'Sandwich...|\n",
      "|2021-08-01 11:02:00|      3|         1|        view_item|{'item_id':56,'price':20.0,'category':'Sandwich...|\n",
      "|2021-08-01 11:04:00|      3|         1|      add_to_cart|                            {'item_id':56,'qnt':1}|\n",
      "+-------------------+-------+----------+-----------------+--------------------------------------------------+\n",
      "\n"
     ]
    }
   ],
   "source": [
    "df_session.select([\n",
    "    'timestamp',\n",
    "    'user_id',\n",
    "    'session_id',\n",
    "    'event_name',\n",
    "    'event_params'\n",
    "]).orderBy(['user_id','session_id','timestamp']).show(50, truncate=50)"
   ]
  },
  {
   "cell_type": "code",
   "execution_count": 14,
   "id": "1314a7d6",
   "metadata": {},
   "outputs": [
    {
     "name": "stderr",
     "output_type": "stream",
     "text": [
      "                                                                                \r"
     ]
    },
    {
     "data": {
      "text/plain": [
       "5"
      ]
     },
     "execution_count": 14,
     "metadata": {},
     "output_type": "execute_result"
    }
   ],
   "source": [
    "total_sessions = df_session.select(['user_id','session_id']).distinct().count()\n",
    "total_sessions"
   ]
  },
  {
   "cell_type": "code",
   "execution_count": 17,
   "id": "00846cb6",
   "metadata": {},
   "outputs": [
    {
     "name": "stderr",
     "output_type": "stream",
     "text": [
      "                                                                                \r"
     ]
    },
    {
     "data": {
      "text/plain": [
       "2"
      ]
     },
     "execution_count": 17,
     "metadata": {},
     "output_type": "execute_result"
    }
   ],
   "source": [
    "total_sessions_with_purchase = df_session \\\n",
    "    .select(['user_id','session_id']) \\\n",
    "    .filter(df_session.event_name == 'purchase') \\\n",
    "    .distinct() \\\n",
    "    .count()\n",
    "total_sessions_with_purchase"
   ]
  },
  {
   "cell_type": "code",
   "execution_count": 19,
   "id": "5b262979",
   "metadata": {},
   "outputs": [
    {
     "data": {
      "text/plain": [
       "0.4"
      ]
     },
     "execution_count": 19,
     "metadata": {},
     "output_type": "execute_result"
    }
   ],
   "source": [
    "# convertion rate\n",
    "total_sessions_with_purchase / total_sessions"
   ]
  }
 ],
 "metadata": {
  "kernelspec": {
   "display_name": "Python 3 (ipykernel)",
   "language": "python",
   "name": "python3"
  },
  "language_info": {
   "codemirror_mode": {
    "name": "ipython",
    "version": 3
   },
   "file_extension": ".py",
   "mimetype": "text/x-python",
   "name": "python",
   "nbconvert_exporter": "python",
   "pygments_lexer": "ipython3",
   "version": "3.8.11"
  }
 },
 "nbformat": 4,
 "nbformat_minor": 5
}
